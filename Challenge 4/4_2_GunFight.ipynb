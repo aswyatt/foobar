{
 "cells": [
  {
   "cell_type": "code",
   "execution_count": 175,
   "metadata": {},
   "outputs": [],
   "source": [
    "import numpy as np"
   ]
  },
  {
   "cell_type": "code",
   "execution_count": 176,
   "metadata": {},
   "outputs": [],
   "source": [
    "TEST = 1\n",
    "if TEST==1:\n",
    "    dim = [3,2]\n",
    "    pos0 = [1,1]\n",
    "    pos1 = [2,1]\n",
    "    max_dist = 4\n",
    "else:\n",
    "    dim = [300, 275]\n",
    "    pos0 = [150, 150]\n",
    "    pos1 = [185, 100]\n",
    "    max_dist = 500"
   ]
  },
  {
   "cell_type": "code",
   "execution_count": 177,
   "metadata": {},
   "outputs": [],
   "source": [
    "(width, height) = dim\n",
    "(x0,y0) = pos0\n",
    "(x1,y1) = pos1\n",
    "\n",
    "#   Generate index arrays\n",
    "#   This could be done a little more efficiently, but this is readable\n",
    "nx_max = 1 + np.floor((max_dist+x0)/(2*width))\n",
    "ny_max = 1 + np.floor((max_dist+y0)/(2*width))\n",
    "nx = np.arange(-nx_max, nx_max+1)\n",
    "ny = np.arange(-ny_max, ny_max+1)"
   ]
  },
  {
   "cell_type": "code",
   "execution_count": 178,
   "metadata": {},
   "outputs": [
    {
     "name": "stdout",
     "output_type": "stream",
     "text": [
      "[[ 1. -1.  5.  1. -1.  5.  1. -1.  5.  1. -1.  5.  1. -1.  5.]\n",
      " [-3. -3. -3.  1.  1.  1.  5.  5.  5. -1. -1. -1.  3.  3.  3.]\n",
      " [ 2. -2.  4.  2. -2.  4.  2. -2.  4.  2. -2.  4.  2. -2.  4.]\n",
      " [-3. -3. -3.  1.  1.  1.  5.  5.  5. -1. -1. -1.  3.  3.  3.]]\n"
     ]
    }
   ],
   "source": [
    "\n",
    "sgn = np.array([1, -1]).reshape((-1,1))\n",
    "\n",
    "#   Replicated my positions\n",
    "X0 = (2*nx*width + sgn*x0).flatten()\n",
    "Y0 = (2*ny*height + sgn*y0).flatten()\n",
    "\n",
    "#   Replicated trainer positions\n",
    "X1 = (2*nx*width + sgn*x1).flatten()\n",
    "Y1 = (2*ny*height + sgn*y1).flatten()\n",
    "\n",
    "#   Only keep those within square of size 2*dist\n",
    "indx = (abs(X0-x0)<=max_dist) & (abs(X1-x0)<=max_dist)\n",
    "indy = (abs(Y0-y0)<=max_dist) & (abs(Y1-y0)<=max_dist)\n",
    "\n",
    "#   Generate meshgrid\n",
    "(X0, Y0) = np.meshgrid(X0[indx], Y0[indy])\n",
    "(X1, Y1) = np.meshgrid(X1[indx], Y1[indy])\n",
    "X0 = X0.flatten()\n",
    "Y0 = Y0.flatten()\n",
    "X1 = X1.flatten()\n",
    "Y1 = Y1.flatten()\n",
    "print(np.vstack((X0, Y0, X1, Y1)))\n"
   ]
  },
  {
   "cell_type": "code",
   "execution_count": 179,
   "metadata": {},
   "outputs": [
    {
     "name": "stdout",
     "output_type": "stream",
     "text": [
      "[[16. 20. 32.  0.  4. 16. 16. 20. 32.  4.  8. 20.  4.  8. 20.]\n",
      " [17. 25. 25.  1.  9.  9. 17. 25. 25.  5. 13. 13.  5. 13. 13.]]\n"
     ]
    }
   ],
   "source": [
    "\n",
    "#   Calculate square distances\n",
    "dX0 = X0-x0\n",
    "dY0 = Y0-y0\n",
    "dX1 = X1-x0\n",
    "dY1 = Y1-y0\n",
    "d20 = dX0**2 + dY0**2\n",
    "d21 = dX1**2 + dY1**2\n",
    "print(np.vstack((d20, d21)))"
   ]
  },
  {
   "cell_type": "code",
   "execution_count": 180,
   "metadata": {},
   "outputs": [
    {
     "name": "stderr",
     "output_type": "stream",
     "text": [
      "D:\\miniconda3\\envs\\Foobar\\lib\\site-packages\\ipykernel_launcher.py:2: RuntimeWarning: divide by zero encountered in divide\n",
      "  \n",
      "D:\\miniconda3\\envs\\Foobar\\lib\\site-packages\\ipykernel_launcher.py:2: RuntimeWarning: invalid value encountered in divide\n",
      "  \n"
     ]
    }
   ],
   "source": [
    "    #   Calculate tan(theta) = y/x\n",
    "    th0 = dY0/dX0\n",
    "    th1 = dY1/dX1"
   ]
  },
  {
   "cell_type": "code",
   "execution_count": 181,
   "metadata": {},
   "outputs": [
    {
     "name": "stdout",
     "output_type": "stream",
     "text": [
      "[[0 0 0 0 0 0 0 0 0 0 0 0 0 0 0]\n",
      " [0 0 0 0 0 0 0 0 0 0 0 0 0 0 0]\n",
      " [0 0 0 0 0 0 0 0 0 0 0 0 0 0 0]\n",
      " [0 0 0 0 0 0 0 0 0 0 0 0 0 0 0]\n",
      " [0 0 0 0 0 0 0 0 0 0 0 0 0 0 0]\n",
      " [0 0 0 0 0 0 0 0 0 0 0 0 0 0 0]\n",
      " [0 0 0 0 0 0 0 0 0 0 0 0 0 0 0]\n",
      " [0 0 0 0 0 0 0 0 0 0 0 0 0 0 0]\n",
      " [0 0 0 0 0 0 0 0 0 0 0 0 0 0 0]\n",
      " [0 0 0 0 0 0 0 0 0 0 0 0 0 0 0]\n",
      " [0 0 0 0 0 0 0 0 0 0 0 0 0 0 0]\n",
      " [0 0 0 0 0 0 0 0 0 0 0 0 0 0 0]\n",
      " [0 0 0 0 0 0 0 0 0 0 0 0 0 0 0]\n",
      " [0 0 0 0 0 0 0 0 0 0 0 0 0 0 0]\n",
      " [0 0 0 0 0 0 0 0 0 0 0 0 0 0 0]]\n"
     ]
    }
   ],
   "source": [
    "\n",
    "#   Get indices where:\n",
    "#       tan(theta0)=y0/x0 == tan(theta1)=y1/x1 --> x0*y1 != x1*y0\n",
    "#       and d21<d20\n",
    "ind1a = ( ((dX0.reshape((-1,1))) * dY1-y1) == ((dY0.reshape((-1,1))) * dX1-x1))\n",
    "print(1*ind1a)"
   ]
  },
  {
   "cell_type": "code",
   "execution_count": 182,
   "metadata": {},
   "outputs": [
    {
     "name": "stdout",
     "output_type": "stream",
     "text": [
      "[[0 0 0 0 0 0 0 0 0 0 0 0 0 0 0]\n",
      " [0 0 0 0 0 0 0 0 0 0 0 0 1 0 0]\n",
      " [0 0 0 0 0 0 0 0 0 0 0 0 0 0 0]\n",
      " [0 0 0 0 0 0 0 0 0 0 0 0 0 0 0]\n",
      " [0 0 0 1 1 1 0 0 0 0 0 0 0 0 0]\n",
      " [0 0 0 1 1 1 0 0 0 0 0 0 0 0 0]\n",
      " [0 0 0 0 0 0 0 0 0 0 0 0 0 0 0]\n",
      " [0 0 0 0 0 0 0 0 0 1 0 0 0 0 0]\n",
      " [0 0 0 0 0 0 0 0 0 0 0 0 0 0 0]\n",
      " [0 0 0 0 0 0 0 0 0 0 0 0 0 0 0]\n",
      " [0 0 0 0 0 0 0 0 0 0 0 0 0 0 0]\n",
      " [0 0 0 0 0 0 0 0 0 0 0 0 0 0 0]\n",
      " [0 0 0 0 0 0 0 0 0 0 0 0 0 0 0]\n",
      " [0 0 0 0 0 0 0 0 0 0 0 0 0 0 0]\n",
      " [0 0 0 0 0 0 0 0 0 0 0 0 0 0 0]]\n"
     ]
    },
    {
     "name": "stderr",
     "output_type": "stream",
     "text": [
      "D:\\miniconda3\\envs\\Foobar\\lib\\site-packages\\ipykernel_launcher.py:1: RuntimeWarning: divide by zero encountered in divide\n",
      "  \"\"\"Entry point for launching an IPython kernel.\n",
      "D:\\miniconda3\\envs\\Foobar\\lib\\site-packages\\ipykernel_launcher.py:1: RuntimeWarning: invalid value encountered in divide\n",
      "  \"\"\"Entry point for launching an IPython kernel.\n"
     ]
    }
   ],
   "source": [
    "ind1b = (((dY0/dX0).reshape((-1,1)))==(dY1/dX1))\n",
    "print(1*ind1b)"
   ]
  },
  {
   "cell_type": "code",
   "execution_count": 183,
   "metadata": {},
   "outputs": [
    {
     "name": "stdout",
     "output_type": "stream",
     "text": [
      "[[1 1 1 0 0 0 1 1 1 0 0 0 0 0 0]\n",
      " [0 1 1 0 0 0 0 1 1 0 0 0 0 0 0]\n",
      " [0 0 0 0 0 0 0 0 0 0 0 0 0 0 0]\n",
      " [1 1 1 1 1 1 1 1 1 1 1 1 1 1 1]\n",
      " [1 1 1 0 1 1 1 1 1 1 1 1 1 1 1]\n",
      " [1 1 1 0 0 0 1 1 1 0 0 0 0 0 0]\n",
      " [1 1 1 0 0 0 1 1 1 0 0 0 0 0 0]\n",
      " [0 1 1 0 0 0 0 1 1 0 0 0 0 0 0]\n",
      " [0 0 0 0 0 0 0 0 0 0 0 0 0 0 0]\n",
      " [1 1 1 0 1 1 1 1 1 1 1 1 1 1 1]\n",
      " [1 1 1 0 1 1 1 1 1 0 1 1 0 1 1]\n",
      " [0 1 1 0 0 0 0 1 1 0 0 0 0 0 0]\n",
      " [1 1 1 0 1 1 1 1 1 1 1 1 1 1 1]\n",
      " [1 1 1 0 1 1 1 1 1 0 1 1 0 1 1]\n",
      " [0 1 1 0 0 0 0 1 1 0 0 0 0 0 0]]\n"
     ]
    }
   ],
   "source": [
    "ind2 = ((d20.reshape((-1,1)))<=d21)\n",
    "print(1*ind2)"
   ]
  },
  {
   "cell_type": "code",
   "execution_count": 184,
   "metadata": {},
   "outputs": [
    {
     "name": "stdout",
     "output_type": "stream",
     "text": [
      "[1 1 1 0 1 1 1 1 1 0 0 0 0 0 0]\n"
     ]
    }
   ],
   "source": [
    "ind = np.bitwise_not(np.any(\n",
    "    ((th0.reshape((-1,1)))==th1)\n",
    "    & ((d20.reshape((-1,1)))<=d21), axis=0)) & (d21<=(max_dist**2))\n",
    "\n",
    "print(1-(ind))"
   ]
  },
  {
   "cell_type": "code",
   "execution_count": 185,
   "metadata": {},
   "outputs": [
    {
     "name": "stdout",
     "output_type": "stream",
     "text": [
      "(15L,)\n",
      "[-4.          1.33333333 -1.33333333  0.         -0.          0.\n",
      "  4.         -1.33333333  1.33333333 -2.          0.66666667 -0.66666667\n",
      "  2.         -0.66666667  0.66666667]\n"
     ]
    }
   ],
   "source": [
    "print(th1.shape)\n",
    "print(th1)\n"
   ]
  },
  {
   "cell_type": "code",
   "execution_count": 186,
   "metadata": {},
   "outputs": [
    {
     "name": "stdout",
     "output_type": "stream",
     "text": [
      "[ 0.         -2.          0.66666667 -0.66666667  2.         -0.66666667\n",
      "  0.66666667]\n"
     ]
    }
   ],
   "source": [
    "print(th1[ind])\n"
   ]
  },
  {
   "cell_type": "code",
   "execution_count": 187,
   "metadata": {},
   "outputs": [
    {
     "name": "stdout",
     "output_type": "stream",
     "text": [
      "[1 2 1 2 1]\n"
     ]
    }
   ],
   "source": [
    "_, count = np.unique(th1[ind], return_counts=True)\n",
    "print(count)"
   ]
  },
  {
   "cell_type": "code",
   "execution_count": null,
   "metadata": {},
   "outputs": [],
   "source": []
  }
 ],
 "metadata": {
  "interpreter": {
   "hash": "d8dc02bd861315f7a2aed314fd0c7097284c759bc524fa67de78d6d9c6798595"
  },
  "kernelspec": {
   "display_name": "Python 2.7.13 ('Foobar')",
   "language": "python",
   "name": "python3"
  },
  "language_info": {
   "codemirror_mode": {
    "name": "ipython",
    "version": 2
   },
   "file_extension": ".py",
   "mimetype": "text/x-python",
   "name": "python",
   "nbconvert_exporter": "python",
   "pygments_lexer": "ipython2",
   "version": "2.7.13"
  },
  "orig_nbformat": 4
 },
 "nbformat": 4,
 "nbformat_minor": 2
}
