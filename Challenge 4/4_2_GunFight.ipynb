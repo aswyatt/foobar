{
 "cells": [
  {
   "cell_type": "code",
   "execution_count": 59,
   "metadata": {},
   "outputs": [],
   "source": [
    "import numpy as np\n",
    "\n",
    "#   Generates linear array [N x 2] = [x, y] of reflected positions\n",
    "def GetPositions(nmax, dim, pos, pos0, max_dist):\n",
    "    #   Generate array of positions\n",
    "    a = np.array([-1, 1]).reshape((-1,1))\n",
    "    x = 2*np.arange(-nmax[0], nmax[0]+1)*dim[0] + a*pos[0]\n",
    "    y = 2*np.arange(-nmax[1], nmax[1]+1)*dim[1] + a*pos[1]\n",
    "\n",
    "    #   Select those within range\n",
    "    x = x[abs(x-pos0[0])<=max_dist]\n",
    "    y = y[abs(y-pos0[1])<=max_dist]\n",
    "\n",
    "    #   Generate mesh grid\n",
    "    (x,y) = np.meshgrid(x, y)\n",
    "    return np.vstack((x.flatten(), y.flatten()))\n",
    "\n",
    "#   Calculates distance vectors and returns those less than distance\n",
    "def GetDistances(POS, pos0, max_dist):\n",
    "    #   Array if distance vectors\n",
    "    delta = POS-np.array(pos0).reshape((-1,1))\n",
    "\n",
    "    #   Squared distances\n",
    "    d2 = np.sum(delta**2, axis=0)\n",
    "\n",
    "    #   Inices where distance within range and not zero\n",
    "    ind = (d2<=max_dist**2) & (d2>0)\n",
    "\n",
    "    #   Select data subset\n",
    "    return (delta[:, ind], d2[ind])\n",
    "\n",
    "#   Find where tan(theta1) == tan(theta2)\n",
    "#   Could calculate atan2(y, x), but this will convert to floating point and thus requires a tolerance setting (which could be calculated based on dim)\n",
    "#   Instead I use tan(theta)=y/x ==> find (y1*x2==x1*y2) and check the quadrant of theta (i.e. relative signs of y1,y2 and x1,x2)\n",
    "def TanMatrix(delta1, delta2):\n",
    "    x1 = delta1[0,:]\n",
    "    y1 = delta1[1,:]\n",
    "    x2 = delta2[0,:].reshape((-1,1))\n",
    "    y2 = delta2[1,:].reshape((-1,1))\n",
    "    return ((y1*x2==x1*y2) \n",
    "            & (np.sign(y1)==np.sign(y2)) \n",
    "            & (np.sign(x1)==np.sign(x2)))"
   ]
  },
  {
   "cell_type": "code",
   "execution_count": 60,
   "metadata": {},
   "outputs": [],
   "source": [
    "TEST = 1\n",
    "if TEST==1:\n",
    "    dim = [3,2]\n",
    "    your_position = [1,1]\n",
    "    trainer_position = [2,1]\n",
    "    distance = 4\n",
    "else:\n",
    "    dim = [300, 275]\n",
    "    your_position = [150, 150]\n",
    "    trainer_position = [185, 100]\n",
    "    distance = 500"
   ]
  },
  {
   "cell_type": "code",
   "execution_count": 61,
   "metadata": {},
   "outputs": [
    {
     "name": "stdout",
     "output_type": "stream",
     "text": [
      "[1 1]\n"
     ]
    }
   ],
   "source": [
    "#   Get maximum reflection index\n",
    "nmax = np.floor(0.5*(distance + 2*np.array(your_position))/np.array(dim)).astype(int)\n",
    "print(nmax)"
   ]
  },
  {
   "cell_type": "code",
   "execution_count": 62,
   "metadata": {},
   "outputs": [
    {
     "name": "stdout",
     "output_type": "stream",
     "text": [
      "[[-1  5  1 -1  5  1 -1  5  1 -1  5  1 -1  5  1]\n",
      " [-1 -1 -1  3  3  3 -3 -3 -3  1  1  1  5  5  5]]\n",
      "[[-2  4  2 -2  4  2 -2  4  2 -2  4  2 -2  4  2]\n",
      " [-1 -1 -1  3  3  3 -3 -3 -3  1  1  1  5  5  5]]\n"
     ]
    }
   ],
   "source": [
    "#   Generate arrays of reflected positions for myself and trainer\n",
    "POS0 = GetPositions(nmax, dim, your_position, your_position, distance)\n",
    "POS1 = GetPositions(nmax, dim, trainer_position, your_position, distance)\n",
    "print(POS0)\n",
    "print(POS1)"
   ]
  },
  {
   "cell_type": "code",
   "execution_count": 63,
   "metadata": {},
   "outputs": [
    {
     "name": "stdout",
     "output_type": "stream",
     "text": [
      "[[-2  0 -2  0  0 -2  4  0]\n",
      " [-2 -2  2  2 -4  0  0  4]]\n",
      "[ 8  4  8  4 16  4 16 16]\n",
      "[[-3  3  1 -3  3  1 -3  3  1]\n",
      " [-2 -2 -2  2  2  2  0  0  0]]\n",
      "[13 13  5 13 13  5  9  9  1]\n"
     ]
    }
   ],
   "source": [
    "#   Get distances of reflected points from your positions\n",
    "(delta0, d20) = GetDistances(POS0, your_position, distance)\n",
    "(delta1, d21) = GetDistances(POS1, your_position, distance)\n",
    "print(delta0)\n",
    "print(d20)\n",
    "print(delta1)\n",
    "print(d21)"
   ]
  },
  {
   "cell_type": "code",
   "execution_count": 64,
   "metadata": {},
   "outputs": [
    {
     "name": "stdout",
     "output_type": "stream",
     "text": [
      "[[-3  3  1 -3  3  1  3  1]\n",
      " [-2 -2 -2  2  2  2  0  0]]\n"
     ]
    }
   ],
   "source": [
    "#   Generate indices of points where !((tan(theta0)==tan(theta2) & dist0<=dist1)\n",
    "ind = np.logical_not(np.any(TanMatrix(delta0, delta1) & (d20<=d21.reshape((-1,1))), axis=1))\n",
    "delta1 = delta1[:, ind]\n",
    "print(delta1)"
   ]
  },
  {
   "cell_type": "code",
   "execution_count": 76,
   "metadata": {},
   "outputs": [
    {
     "name": "stdout",
     "output_type": "stream",
     "text": [
      "[[0 0 0 0 0 0 0 0]\n",
      " [0 0 0 0 0 0 0 0]\n",
      " [0 0 0 0 0 0 0 0]\n",
      " [0 0 0 0 0 0 0 0]\n",
      " [0 0 0 0 0 0 0 0]\n",
      " [0 0 0 0 0 0 0 0]\n",
      " [0 0 0 0 0 0 0 1]\n",
      " [0 0 0 0 0 0 0 0]]\n"
     ]
    }
   ],
   "source": [
    "#   Get unique directions\n",
    "n = np.arange(delta1.shape[1])\n",
    "ind = TanMatrix(delta1, delta1) & (n>n.reshape((-1,1)))\n",
    "print(1*ind)"
   ]
  },
  {
   "cell_type": "code",
   "execution_count": null,
   "metadata": {},
   "outputs": [],
   "source": []
  }
 ],
 "metadata": {
  "interpreter": {
   "hash": "d8dc02bd861315f7a2aed314fd0c7097284c759bc524fa67de78d6d9c6798595"
  },
  "kernelspec": {
   "display_name": "Python 2.7.13 ('Foobar')",
   "language": "python",
   "name": "python3"
  },
  "language_info": {
   "codemirror_mode": {
    "name": "ipython",
    "version": 2
   },
   "file_extension": ".py",
   "mimetype": "text/x-python",
   "name": "python",
   "nbconvert_exporter": "python",
   "pygments_lexer": "ipython2",
   "version": "2.7.13"
  },
  "orig_nbformat": 4
 },
 "nbformat": 4,
 "nbformat_minor": 2
}
